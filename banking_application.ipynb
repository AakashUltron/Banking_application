{
 "cells": [
  {
   "cell_type": "code",
   "execution_count": 1,
   "id": "bc56fa2e-139e-4f65-8278-693647db6503",
   "metadata": {},
   "outputs": [
    {
     "name": "stdout",
     "output_type": "stream",
     "text": [
      "Dinesh\n"
     ]
    }
   ],
   "source": [
    "print(\"Dinesh\")"
   ]
  },
  {
   "cell_type": "code",
   "execution_count": 2,
   "id": "38c58122-de91-4684-8734-6b447d8e7cc1",
   "metadata": {},
   "outputs": [
    {
     "name": "stdout",
     "output_type": "stream",
     "text": [
      "Dinesh\n",
      "Ramesh\n"
     ]
    }
   ],
   "source": [
    "print(\"Dinesh\")\n",
    "print(\"Ramesh\")"
   ]
  },
  {
   "cell_type": "code",
   "execution_count": 3,
   "id": "b1ff3a7f-ce1a-44d5-a386-580e0bc24e01",
   "metadata": {},
   "outputs": [
    {
     "name": "stdout",
     "output_type": "stream",
     "text": [
      "8\n"
     ]
    }
   ],
   "source": [
    "print(3+5)"
   ]
  },
  {
   "cell_type": "code",
   "execution_count": 4,
   "id": "1091ea51-142c-4f4b-bcb5-00269efbe4ce",
   "metadata": {},
   "outputs": [
    {
     "name": "stdout",
     "output_type": "stream",
     "text": [
      "Dinesh Ramesh\n"
     ]
    }
   ],
   "source": [
    "print(\"Dinesh\",\"Ramesh\")"
   ]
  },
  {
   "cell_type": "code",
   "execution_count": 6,
   "id": "f33e7811-aa1f-499b-aec9-baad3ff3ae43",
   "metadata": {},
   "outputs": [
    {
     "name": "stdout",
     "output_type": "stream",
     "text": [
      "Dinesh     Ramesh\n"
     ]
    }
   ],
   "source": [
    "print(\"Dinesh\", end=\"     \")\n",
    "print(\"Ramesh\")\n"
   ]
  },
  {
   "cell_type": "code",
   "execution_count": 7,
   "id": "e68aff88-1d71-410b-8424-6cfaa2030a10",
   "metadata": {},
   "outputs": [
    {
     "name": "stdout",
     "output_type": "stream",
     "text": [
      "Dinesh|Ramesh\n"
     ]
    }
   ],
   "source": [
    "print(\"Dinesh\",\"Ramesh\", sep=\"|\")"
   ]
  },
  {
   "cell_type": "code",
   "execution_count": 8,
   "id": "2df9dd74-b8b6-4f2f-b37d-a3e835af3813",
   "metadata": {},
   "outputs": [
    {
     "name": "stdout",
     "output_type": "stream",
     "text": [
      "120\n"
     ]
    }
   ],
   "source": [
    "x = 100\n",
    "y = 20\n",
    "z = x + y\n",
    "print(z)"
   ]
  },
  {
   "cell_type": "code",
   "execution_count": 9,
   "id": "6da7c840-b180-41f7-828c-018c1617fb46",
   "metadata": {},
   "outputs": [
    {
     "name": "stdout",
     "output_type": "stream",
     "text": [
      "My name is janani my age is 22\n"
     ]
    }
   ],
   "source": [
    "name = \"janani\"\n",
    "age = 22\n",
    "print(\"My name is\",name,\"my age is\",age)"
   ]
  },
  {
   "cell_type": "code",
   "execution_count": 10,
   "id": "44f463b3-d65d-410e-ad8d-16c48535810b",
   "metadata": {},
   "outputs": [
    {
     "name": "stdout",
     "output_type": "stream",
     "text": [
      "My name is janani my age is 22\n"
     ]
    }
   ],
   "source": [
    "# format method\n",
    "print(\"My name is {} my age is {}\".format(name,age))"
   ]
  },
  {
   "cell_type": "code",
   "execution_count": 11,
   "id": "8812c673-0c51-44bc-b930-81f9f9712ee4",
   "metadata": {},
   "outputs": [
    {
     "name": "stdout",
     "output_type": "stream",
     "text": [
      "My name is 22 my age is janani\n"
     ]
    }
   ],
   "source": [
    "print(\"My name is {} my age is {}\".format(age,name))"
   ]
  },
  {
   "cell_type": "code",
   "execution_count": 12,
   "id": "8b60d6eb-5aa9-4531-a712-d8c72a8200f9",
   "metadata": {},
   "outputs": [
    {
     "name": "stdout",
     "output_type": "stream",
     "text": [
      "My name is janani my age is 22\n"
     ]
    }
   ],
   "source": [
    "print(\"My name is {1} my age is {0}\".format(age,name))"
   ]
  },
  {
   "cell_type": "code",
   "execution_count": 13,
   "id": "89bb3029-e0d5-4814-af74-819855cc1ee2",
   "metadata": {},
   "outputs": [
    {
     "name": "stdout",
     "output_type": "stream",
     "text": [
      "My name is janani my age is 22\n"
     ]
    }
   ],
   "source": [
    "# F string method - \n",
    "print(f\"My name is {name} my age is {age}\")"
   ]
  },
  {
   "cell_type": "code",
   "execution_count": 15,
   "id": "80c0a311-0341-4b16-aa97-c4134ef5927d",
   "metadata": {},
   "outputs": [
    {
     "name": "stdout",
     "output_type": "stream",
     "text": [
      "City Name: Chennai\n"
     ]
    }
   ],
   "source": [
    "city_name = \"Chennai\"\n",
    "print(f\"City Name: {city_name}\")"
   ]
  },
  {
   "cell_type": "code",
   "execution_count": 16,
   "id": "7687d7ec-d3f1-496b-ab87-1c22a1fac394",
   "metadata": {},
   "outputs": [
    {
     "name": "stdout",
     "output_type": "stream",
     "text": [
      "Temperature: 25C\n"
     ]
    }
   ],
   "source": [
    "temperature = 25\n",
    "print(f\"Temperature: {temperature}C\")"
   ]
  },
  {
   "cell_type": "code",
   "execution_count": 17,
   "id": "f7106ae1-2800-40cb-80c4-8ce66d1b978c",
   "metadata": {},
   "outputs": [
    {
     "name": "stdout",
     "output_type": "stream",
     "text": [
      "is_sustainable : False\n"
     ]
    }
   ],
   "source": [
    "carbon_footprint = 500\n",
    "is_sustainable = carbon_footprint < 400\n",
    "print(f\"is_sustainable : {is_sustainable}\")"
   ]
  },
  {
   "cell_type": "code",
   "execution_count": 20,
   "id": "7c56f063-e570-4f6e-93fd-866e56fb4866",
   "metadata": {},
   "outputs": [
    {
     "name": "stdout",
     "output_type": "stream",
     "text": [
      "Weekly Temperatures: [25, 27, 28, 26, 24, 30, 29]\n"
     ]
    }
   ],
   "source": [
    "weekly_temperature = [25,27,28,26,24,30,29]\n",
    "print(f\"Weekly Temperatures: {weekly_temperature}\")"
   ]
  },
  {
   "cell_type": "code",
   "execution_count": 21,
   "id": "32a998c0-708c-4496-943e-5c6c65a0fb8b",
   "metadata": {},
   "outputs": [
    {
     "name": "stdout",
     "output_type": "stream",
     "text": [
      "[25, 27, 28, 26, 29, 30, 29]\n"
     ]
    }
   ],
   "source": [
    "# List - mutable\n",
    "# Tuples - Immutable\n",
    "weekly_temperature = [25,27,28,26,24,30,29]\n",
    "weekly_temperature[4] = 29\n",
    "print(weekly_temperature)"
   ]
  },
  {
   "cell_type": "code",
   "execution_count": 22,
   "id": "dd20451c-6ef6-4e3b-b8a2-5454d4357d13",
   "metadata": {},
   "outputs": [
    {
     "ename": "TypeError",
     "evalue": "'tuple' object does not support item assignment",
     "output_type": "error",
     "traceback": [
      "\u001b[1;31m---------------------------------------------------------------------------\u001b[0m",
      "\u001b[1;31mTypeError\u001b[0m                                 Traceback (most recent call last)",
      "Cell \u001b[1;32mIn[22], line 2\u001b[0m\n\u001b[0;32m      1\u001b[0m weekly_temperature \u001b[38;5;241m=\u001b[39m (\u001b[38;5;241m25\u001b[39m,\u001b[38;5;241m27\u001b[39m,\u001b[38;5;241m28\u001b[39m,\u001b[38;5;241m26\u001b[39m,\u001b[38;5;241m24\u001b[39m,\u001b[38;5;241m30\u001b[39m,\u001b[38;5;241m29\u001b[39m)\n\u001b[1;32m----> 2\u001b[0m \u001b[43mweekly_temperature\u001b[49m\u001b[43m[\u001b[49m\u001b[38;5;241;43m4\u001b[39;49m\u001b[43m]\u001b[49m \u001b[38;5;241m=\u001b[39m \u001b[38;5;241m29\u001b[39m\n\u001b[0;32m      3\u001b[0m \u001b[38;5;28mprint\u001b[39m(weekly_temperature)\n",
      "\u001b[1;31mTypeError\u001b[0m: 'tuple' object does not support item assignment"
     ]
    }
   ],
   "source": [
    "weekly_temperature = (25,27,28,26,24,30,29)\n",
    "weekly_temperature[4] = 29\n",
    "print(weekly_temperature)"
   ]
  },
  {
   "cell_type": "code",
   "execution_count": 23,
   "id": "bfe06ca1-e01c-4517-a987-34e7311867ad",
   "metadata": {},
   "outputs": [
    {
     "name": "stdout",
     "output_type": "stream",
     "text": [
      "City Data: {'name': 'City A', 'temperature': 25, 'carbon_footprint': 500.75, 'is_sustainable': False}\n"
     ]
    }
   ],
   "source": [
    "city_data = {\n",
    "    \"name\": \"City A\",\n",
    "    \"temperature\": 25,\n",
    "    \"carbon_footprint\": 500.75,\n",
    "    \"is_sustainable\": False\n",
    "}\n",
    "# Print the dictionary\n",
    "print(f\"City Data: {city_data}\")"
   ]
  },
  {
   "cell_type": "code",
   "execution_count": 26,
   "id": "864e530b-acf8-4a56-a023-b260378f8900",
   "metadata": {},
   "outputs": [
    {
     "data": {
      "text/plain": [
       "{'name': 'Chennai',\n",
       " 'temperature': 25,\n",
       " 'carbon_footprint': 500.75,\n",
       " 'is_sustainable': False}"
      ]
     },
     "execution_count": 26,
     "metadata": {},
     "output_type": "execute_result"
    }
   ],
   "source": [
    "city_data[\"name\"] = \"Chennai\"\n",
    "city_data"
   ]
  },
  {
   "cell_type": "code",
   "execution_count": null,
   "id": "85275955-99e2-4553-b85c-7deb2041c332",
   "metadata": {},
   "outputs": [],
   "source": [
    "# Assign multiple variables at once\n",
    "city_name, temperature, carbon_footprint = \"City B\", 30, 350.50\n",
    "\n",
    "# Print the values\n",
    "print(f\"City Name: {city_name}, Temperature: {temperature}°C, Carbon Footprint: {carbon_footprint} kg CO2\")\n"
   ]
  },
  {
   "cell_type": "code",
   "execution_count": 1,
   "id": "67160525-3b04-49d8-b9bf-08e8d04fa975",
   "metadata": {},
   "outputs": [
    {
     "data": {
      "text/plain": [
       "[{'city': 'City B', 'temperature': 30, 'carbon_footprint': 350},\n",
       " {'city': 'City E', 'temperature': 28, 'carbon_footprint': 450}]"
      ]
     },
     "execution_count": 1,
     "metadata": {},
     "output_type": "execute_result"
    }
   ],
   "source": [
    "# Sample climate dataset\n",
    "climate_data = [\n",
    "    {\"city\": \"City A\", \"temperature\": 25, \"carbon_footprint\": 500},\n",
    "    {\"city\": \"City B\", \"temperature\": 30, \"carbon_footprint\": 350},\n",
    "    {\"city\": \"City C\", \"temperature\": 22, \"carbon_footprint\": 600},\n",
    "    {\"city\": \"City D\", \"temperature\": 15, \"carbon_footprint\": 200},\n",
    "    {\"city\": \"City E\", \"temperature\": 28, \"carbon_footprint\": 450},\n",
    "]\n",
    "\n",
    "# High temperature threshold (cities above this temperature will be selected)\n",
    "high_temp_threshold = 26\n",
    "high_temp_cities = [city for city in climate_data if city['temperature'] > high_temp_threshold]\n",
    "\n",
    "high_temp_cities"
   ]
  },
  {
   "cell_type": "code",
   "execution_count": 2,
   "id": "b2947541-eb12-4150-9fd4-21339af7a956",
   "metadata": {},
   "outputs": [
    {
     "name": "stdout",
     "output_type": "stream",
     "text": [
      "Cities with high temperatures (> 26°C):\n",
      "City B - 30°C\n",
      "City E - 28°C\n"
     ]
    }
   ],
   "source": [
    "print(\"Cities with high temperatures (> 26°C):\")\n",
    "for city in high_temp_cities:\n",
    "    print(f\"{city['city']} - {city['temperature']}°C\")"
   ]
  },
  {
   "cell_type": "code",
   "execution_count": 3,
   "id": "e71ec4b0-2de3-4683-8885-b3b224401220",
   "metadata": {},
   "outputs": [
    {
     "name": "stdout",
     "output_type": "stream",
     "text": [
      "Average carbon footprint 420.0\n"
     ]
    }
   ],
   "source": [
    "# Using loops to Calculate Average Carbon FootPrint\n",
    "\n",
    "total_carbon = 0\n",
    "for city in climate_data:\n",
    "    total_carbon += city['carbon_footprint']\n",
    "\n",
    "avg_carbon_footprint = total_carbon/ len(climate_data)\n",
    "\n",
    "print(\"Average carbon footprint\", avg_carbon_footprint)\n"
   ]
  },
  {
   "cell_type": "code",
   "execution_count": 5,
   "id": "1d4f2ce7-1a0e-4d31-a303-54eb33fc9831",
   "metadata": {},
   "outputs": [
    {
     "name": "stdout",
     "output_type": "stream",
     "text": [
      "sustainable cities : \n",
      "City B - 350 kg CO2\n",
      "City D - 200 kg CO2\n"
     ]
    }
   ],
   "source": [
    "threshold = 400\n",
    "sustainable_cities = list(filter(lambda city: city['carbon_footprint'] <threshold, climate_data))\n",
    "print(\"sustainable cities : \")\n",
    "for city in sustainable_cities:\n",
    "    print(f\"{city['city']} - {city['carbon_footprint']} kg CO2\")"
   ]
  },
  {
   "cell_type": "code",
   "execution_count": 10,
   "id": "d8bc1bbb-201b-4164-8f28-417b1fbf06f5",
   "metadata": {},
   "outputs": [],
   "source": [
    "def carbon_calculator(energy_consumption, emission_factor):\n",
    "\n",
    "    return energy_consumption * emission_factor\n",
    "\n",
    "result = carbon_calculator(1000, 0.475) + 50"
   ]
  },
  {
   "cell_type": "code",
   "execution_count": 8,
   "id": "c676022e-7e3d-47d3-b977-652c4dec7b73",
   "metadata": {},
   "outputs": [
    {
     "data": {
      "text/plain": [
       "525.0"
      ]
     },
     "execution_count": 8,
     "metadata": {},
     "output_type": "execute_result"
    }
   ],
   "source": [
    "result"
   ]
  },
  {
   "cell_type": "code",
   "execution_count": 17,
   "id": "6f1007a9-0cf4-4169-831d-c00ba1205ac0",
   "metadata": {},
   "outputs": [
    {
     "data": {
      "text/plain": [
       "1500"
      ]
     },
     "execution_count": 17,
     "metadata": {},
     "output_type": "execute_result"
    }
   ],
   "source": [
    "# Functions with arbitary arguments\n",
    "def total_consumption(*values):\n",
    "    total_consumption = 0\n",
    "    for i in values:\n",
    "        total_consumption += i\n",
    "    return total_consumption\n",
    "total_consumption(1000,200,300)"
   ]
  },
  {
   "cell_type": "code",
   "execution_count": 18,
   "id": "458f028d-5792-4829-bed5-0807f8a4a41c",
   "metadata": {},
   "outputs": [
    {
     "data": {
      "text/plain": [
       "{'name': 'Solar', 'energy_consumption': 1000}"
      ]
     },
     "execution_count": 18,
     "metadata": {},
     "output_type": "execute_result"
    }
   ],
   "source": [
    "# Functions with Key-word arguments\n",
    "def energy_resources(**kwargs):\n",
    "    return kwargs\n",
    "energy_resources(name = \"Solar\", energy_consumption = 1000)"
   ]
  },
  {
   "cell_type": "code",
   "execution_count": 19,
   "id": "a465b837-4078-4c87-b5bb-1a456264e7b2",
   "metadata": {},
   "outputs": [],
   "source": [
    "class Students:\n",
    "    pass\n"
   ]
  },
  {
   "cell_type": "code",
   "execution_count": 21,
   "id": "1e095e9d-48e9-4825-9614-808c74667dfd",
   "metadata": {},
   "outputs": [],
   "source": [
    "class Students:\n",
    "    def Learning(self):\n",
    "        print(\"We are learning\")"
   ]
  },
  {
   "cell_type": "code",
   "execution_count": 26,
   "id": "847ea02a-00d4-4e19-9c61-c9fff8e52c47",
   "metadata": {},
   "outputs": [
    {
     "name": "stdout",
     "output_type": "stream",
     "text": [
      "I am learning\n"
     ]
    }
   ],
   "source": [
    "class Students:\n",
    "    def Learning(self):\n",
    "        print(\"I am learning\")\n",
    "student1 = Students()\n",
    "student1.Learning()"
   ]
  },
  {
   "cell_type": "code",
   "execution_count": 33,
   "id": "0826eaa9-e974-41ae-a213-8a3ba9ac70be",
   "metadata": {},
   "outputs": [
    {
     "name": "stdout",
     "output_type": "stream",
     "text": [
      "I am learning\n"
     ]
    }
   ],
   "source": [
    "class Students:\n",
    "\n",
    "    def __init__(self, name, age):\n",
    "        self.name = name\n",
    "        self.age  = age\n",
    "    def Learning(self):\n",
    "        print(\"I am learning\")\n",
    "    def Playing(self):\n",
    "        print(\"I am Playing\")\n",
    "student1 = Students(\"Dinesh\", 22)\n",
    "student1.Learning()\n"
   ]
  },
  {
   "cell_type": "code",
   "execution_count": 30,
   "id": "d0587f34-1078-4ab1-8426-6b19b7f7017b",
   "metadata": {},
   "outputs": [
    {
     "data": {
      "text/plain": [
       "'Dinesh'"
      ]
     },
     "execution_count": 30,
     "metadata": {},
     "output_type": "execute_result"
    }
   ],
   "source": [
    "student1.name"
   ]
  },
  {
   "cell_type": "code",
   "execution_count": 31,
   "id": "cb95802e-c1df-421e-a62c-8efd60c42a44",
   "metadata": {},
   "outputs": [
    {
     "data": {
      "text/plain": [
       "22"
      ]
     },
     "execution_count": 31,
     "metadata": {},
     "output_type": "execute_result"
    }
   ],
   "source": [
    "student1.age"
   ]
  },
  {
   "cell_type": "code",
   "execution_count": 35,
   "id": "d22d8d86-77d2-4df2-ae88-1ea344584340",
   "metadata": {},
   "outputs": [
    {
     "name": "stdout",
     "output_type": "stream",
     "text": [
      "I am Playing\n"
     ]
    }
   ],
   "source": [
    "student2 = Students(\"Manoranjan\", 22)\n",
    "student2.Playing()"
   ]
  },
  {
   "cell_type": "code",
   "execution_count": 18,
   "id": "5e6bd9d0-f8fb-4aaf-b432-710b212d8628",
   "metadata": {},
   "outputs": [
    {
     "name": "stdout",
     "output_type": "stream",
     "text": [
      "Hello Mr. Dinesh\n",
      "You have successfully created a account with our HDFC Bank\n",
      "Your balance available is now 1000\n"
     ]
    }
   ],
   "source": [
    "class Bank:\n",
    "    total_bal = 0 # Class Variable\n",
    "    cust_list = [] # Class Variable\n",
    "\n",
    "    def __init__(self, name, acc_num, ini_bal = 1000):\n",
    "        self.name = name\n",
    "        self.acc_num = acc_num\n",
    "        self.ini_bal = ini_bal\n",
    "\n",
    "class Saving(Bank):\n",
    "\n",
    "    def __init__(self, name, acc_num, pan_num, balance = 0, ini_bal = 1000):\n",
    "\n",
    "        super().__init__(name, acc_num, ini_bal = 1000)\n",
    "        self.pan_num = pan_num\n",
    "        print(f\"Hello Mr. {self.name}\")\n",
    "        print(f\"You have successfully created a account with our HDFC Bank\")\n",
    "        self.balance = balance\n",
    "        self.balance += ini_bal\n",
    "        print(f\"Your balance available is now {self.balance}\")\n",
    "        Bank.total_bal += self.balance\n",
    "        Bank.cust_list.append(self.name)\n",
    "\n",
    "    def deposit(self, money):\n",
    "        self.balance += money\n",
    "        Bank.total_bal += money\n",
    "        print(f\"Hello Mr. {self.name} you have deposited {money} in your AC\")\n",
    "        print(f\"Your available balance is {self.balance}\")\n",
    "\n",
    "    def withdraw(self, money):\n",
    "        self.balance -= money\n",
    "        Bank.total_bal -= money\n",
    "        print(f\"Hello Mr. {self.name} you have withdrawn {money} from your AC\")\n",
    "\n",
    "    def __del__(self):\n",
    "        print(\"Closing your account in few seconds....\")\n",
    "        \n",
    "        \n",
    "\n",
    "customer1 = Saving(\"Dinesh\",1234,\"BWJPR7895\")\n",
    "\n",
    "\n",
    "\n",
    "    \n",
    "    "
   ]
  },
  {
   "cell_type": "code",
   "execution_count": 19,
   "id": "f3542a78-9d91-42ba-a888-0e0dbf2fa544",
   "metadata": {},
   "outputs": [
    {
     "name": "stdout",
     "output_type": "stream",
     "text": [
      "Hello Mr. Dinesh you have deposited 1500 in your AC\n",
      "Your available balance is 2500\n"
     ]
    }
   ],
   "source": [
    "customer1.deposit(1500)"
   ]
  },
  {
   "cell_type": "code",
   "execution_count": 20,
   "id": "8cfa43bd-7e67-4440-baca-879f545d3381",
   "metadata": {},
   "outputs": [
    {
     "name": "stdout",
     "output_type": "stream",
     "text": [
      "Hello Mr. Dinesh you have withdrawn 2000 from your AC\n"
     ]
    }
   ],
   "source": [
    "customer1.withdraw(2000)"
   ]
  },
  {
   "cell_type": "code",
   "execution_count": 21,
   "id": "bea25648-946e-4e12-8b51-3ff18d2a71f2",
   "metadata": {},
   "outputs": [
    {
     "data": {
      "text/plain": [
       "500"
      ]
     },
     "execution_count": 21,
     "metadata": {},
     "output_type": "execute_result"
    }
   ],
   "source": [
    "customer1.balance"
   ]
  },
  {
   "cell_type": "code",
   "execution_count": 26,
   "id": "fc1477ba-61ef-416f-b308-357f26ad8f78",
   "metadata": {},
   "outputs": [],
   "source": [
    "del customer1"
   ]
  },
  {
   "cell_type": "code",
   "execution_count": 27,
   "id": "e4ba73fb-c993-4188-a479-519d2a11c420",
   "metadata": {},
   "outputs": [
    {
     "ename": "NameError",
     "evalue": "name 'customer1' is not defined",
     "output_type": "error",
     "traceback": [
      "\u001b[1;31m---------------------------------------------------------------------------\u001b[0m",
      "\u001b[1;31mNameError\u001b[0m                                 Traceback (most recent call last)",
      "Cell \u001b[1;32mIn[27], line 1\u001b[0m\n\u001b[1;32m----> 1\u001b[0m \u001b[43mcustomer1\u001b[49m\u001b[38;5;241m.\u001b[39mname\n",
      "\u001b[1;31mNameError\u001b[0m: name 'customer1' is not defined"
     ]
    }
   ],
   "source": [
    "customer1.name"
   ]
  },
  {
   "cell_type": "code",
   "execution_count": 17,
   "id": "86885195-1135-4dcd-b80f-b26ea28c266a",
   "metadata": {},
   "outputs": [
    {
     "data": {
      "text/plain": [
       "<__main__.Saving at 0x1fd8b5772c0>"
      ]
     },
     "execution_count": 17,
     "metadata": {},
     "output_type": "execute_result"
    }
   ],
   "source": [
    "customer1"
   ]
  },
  {
   "cell_type": "code",
   "execution_count": null,
   "id": "a318ca1c-d5c4-40af-88f5-bad0a2e823db",
   "metadata": {},
   "outputs": [],
   "source": []
  }
 ],
 "metadata": {
  "kernelspec": {
   "display_name": "Python 3 (ipykernel)",
   "language": "python",
   "name": "python3"
  },
  "language_info": {
   "codemirror_mode": {
    "name": "ipython",
    "version": 3
   },
   "file_extension": ".py",
   "mimetype": "text/x-python",
   "name": "python",
   "nbconvert_exporter": "python",
   "pygments_lexer": "ipython3",
   "version": "3.12.7"
  }
 },
 "nbformat": 4,
 "nbformat_minor": 5
}
